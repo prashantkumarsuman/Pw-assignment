{
 "cells": [
  {
   "cell_type": "code",
   "execution_count": null,
   "id": "84d50f5f-03f5-401e-85b0-749baf463fa8",
   "metadata": {},
   "outputs": [],
   "source": []
  },
  {
   "cell_type": "code",
   "execution_count": 1,
   "id": "051e5f69-dc28-450f-a147-f783cd7b3760",
   "metadata": {},
   "outputs": [
    {
     "ename": "IndentationError",
     "evalue": "unexpected indent (534166269.py, line 4)",
     "output_type": "error",
     "traceback": [
      "\u001b[0;36m  Cell \u001b[0;32mIn[1], line 4\u001b[0;36m\u001b[0m\n\u001b[0;31m    For loop is used when we first check condition then excute the program.\u001b[0m\n\u001b[0m    ^\u001b[0m\n\u001b[0;31mIndentationError\u001b[0m\u001b[0;31m:\u001b[0m unexpected indent\n"
     ]
    }
   ],
   "source": [
    " # Q1. Explain with an example each when to use a for loop and a while loop.\n",
    "    \n",
    "    # when to use for loop\n",
    "    For loop is used when we first check condition then excute the program.\n",
    "    We will use use for loop when we know how much iterable are required to execute a program.\n",
    "    For loops are designed for iterating over sequences, like lists, tuples, strings, dictionaries\n",
    "    We will use for loop when we need to iterate over a specific range of values.\n",
    "    \n",
    "    # when to use While loop:\n",
    "    We will use use while loop when we dont know how much iterable are required to execute a program.\n",
    "    While loops are beneficial for implementing infinite loops or for cases where we want to continue executing\n",
    "    code until a certain condition is met.  \n",
    "    While loops allow us  for more complex conditional control flow.\n",
    "    \n",
    "    \n",
    "    "
   ]
  },
  {
   "cell_type": "code",
   "execution_count": 5,
   "id": "9b1f93ec-f9d7-4d66-bb3b-9012884b2760",
   "metadata": {},
   "outputs": [
    {
     "name": "stdout",
     "output_type": "stream",
     "text": [
      "Sum of the first 10 natural numbers: 55\n",
      "Product of the first 10 natural numbers: 3628800\n"
     ]
    }
   ],
   "source": [
    "#Q2. Write a python program to print the sum and product of the first 10 natural numbers using for and while loop. \n",
    "\n",
    "# using for loop\n",
    "sum_of_numbers = 0\n",
    "product_of_numbers = 1\n",
    "for number in range(1, 11):\n",
    "    sum_of_numbers += number\n",
    "    product_of_numbers *= number\n",
    "\n",
    "print(\"Sum of the first 10 natural numbers:\", sum_of_numbers)\n",
    "print(\"Product of the first 10 natural numbers:\", product_of_numbers)"
   ]
  },
  {
   "cell_type": "code",
   "execution_count": 7,
   "id": "4f594712-169b-466f-a992-ff9622291f3a",
   "metadata": {},
   "outputs": [
    {
     "name": "stdout",
     "output_type": "stream",
     "text": [
      "Sum of the first 10 natural numbers: 55\n",
      "Product of the first 10 natural numbers: 3628800\n"
     ]
    }
   ],
   "source": [
    " # By Using While loop \n",
    "sum_of_numbers = 0\n",
    "product_of_numbers = 1\n",
    "count = 1\n",
    "while count <= 10:\n",
    "    sum_of_numbers += count\n",
    "    product_of_numbers *= count\n",
    "    count += 1\n",
    "\n",
    "print(\"Sum of the first 10 natural numbers:\", sum_of_numbers)\n",
    "print(\"Product of the first 10 natural numbers:\", product_of_numbers)"
   ]
  },
  {
   "cell_type": "code",
   "execution_count": null,
   "id": "4b965f91-3551-4a6c-a67d-cc1f8d947733",
   "metadata": {},
   "outputs": [],
   "source": [
    " # Q3. Create a python program to compute the electricity bill for a household.\n",
    " \n",
    "# The per-unit charges in rupees are as follows: For the first 100 units, the user will be charged Rs. 4.5 per\n",
    "# unit, for the next 100 units, the user will be charged Rs. 6 per unit, and for the next 100 units, the user will\n",
    "# be charged Rs. 10 per unit, After 300 units and above the user will be charged Rs. 20 per unit.\n",
    "# You are required to take the units of electricity consumed in a month from the user as input.\n",
    "# Your program must pass this test case: when the unit of electricity consumed by the user in a month is\n",
    "# 310, the total electricity bill should be 2250."
   ]
  },
  {
   "cell_type": "code",
   "execution_count": 8,
   "id": "8d7bfda6-64af-4fd8-a5c9-522c8353a0b4",
   "metadata": {},
   "outputs": [
    {
     "name": "stdin",
     "output_type": "stream",
     "text": [
      "Enter the units of electricity consumed in a month:  310\n"
     ]
    },
    {
     "name": "stdout",
     "output_type": "stream",
     "text": [
      "Total electricity bill: Rs. 2250.00\n"
     ]
    }
   ],
   "source": [
    "# initialize input \n",
    "units_consumed = float(input(\"Enter the units of electricity consumed in a month: \"))\n",
    "\n",
    "# Initialize variables to store the total bill\n",
    "total_bill = 0.0\n",
    "\n",
    "# Define the per-unit charges\n",
    "charge_slabs = [(100, 4.5), (100, 6), (100, 10), (None, 20)]\n",
    "\n",
    "# Calculate the bill based on charge slabs\n",
    "for slab_units, slab_rate in charge_slabs:\n",
    "    if units_consumed <= 0:\n",
    "        break\n",
    "    if slab_units is None or units_consumed <= slab_units:\n",
    "        total_bill += units_consumed * slab_rate\n",
    "    else:\n",
    "        total_bill += slab_units * slab_rate\n",
    "        units_consumed -= slab_units\n",
    "\n",
    "# Print the total electricity bill\n",
    "print(f\"Total electricity bill: Rs. {total_bill:.2f}\")\n"
   ]
  },
  {
   "cell_type": "code",
   "execution_count": 14,
   "id": "1c2a3bfb-2b86-4663-afaf-984a416a1064",
   "metadata": {},
   "outputs": [
    {
     "name": "stdout",
     "output_type": "stream",
     "text": [
      "[2, 4, 5, 6, 8, 10, 12, 14, 15, 16, 18, 20, 22, 24, 25, 26, 28, 30, 32, 34, 35, 36, 38, 40, 42, 44, 45, 46, 48, 50, 52, 54, 55, 56, 58, 60, 62, 64, 65, 66, 68, 70, 72, 74, 75, 76, 78, 80, 82, 84, 85, 86, 88, 90, 92, 94, 95, 96, 98, 100]\n"
     ]
    }
   ],
   "source": [
    "#  # Q4. Create a list of numbers from 1 to 100. Use for loop and while loop to calculate the cube of each\n",
    "# number and if the cube of that number is divisible by 4 or 5 then append that number in a list and print\n",
    "# that list.\n",
    "\n",
    "result_list = []\n",
    "for number in range(1, 101):\n",
    "    cube = number ** 3\n",
    "    if cube % 4 == 0 or cube % 5 == 0:\n",
    "        result_list.append(number)\n",
    "print(result_list)\n"
   ]
  },
  {
   "cell_type": "code",
   "execution_count": null,
   "id": "1121d78f-6251-4f06-ad9b-2805446de4e2",
   "metadata": {},
   "outputs": [],
   "source": []
  },
  {
   "cell_type": "code",
   "execution_count": 15,
   "id": "01096414-34c9-4a3b-8fac-103592cbbf4d",
   "metadata": {},
   "outputs": [
    {
     "name": "stdout",
     "output_type": "stream",
     "text": [
      "Number of vowels in the string: 12\n"
     ]
    }
   ],
   "source": [
    "# Q5. Write a program to filter count vowels in the below-given string.\n",
    "# string = \"I want to become a data scientist\"\n",
    "\n",
    "# Input string\n",
    "string = \"I want to become a data scientist\"\n",
    "\n",
    "# Convert the string to lowercase to handle both uppercase and lowercase vowels\n",
    "string = string.lower()\n",
    "\n",
    "# Define a set of vowels\n",
    "vowels = \"aeiou\"\n",
    "\n",
    "# Initialize a variable to count vowels\n",
    "vowel_count = 0\n",
    "\n",
    "# Iterate through each character in the string\n",
    "for char in string:\n",
    "    if char in vowels:\n",
    "        vowel_count += 1\n",
    "\n",
    "# Print the count of vowels\n",
    "print(\"Number of vowels in the string:\", vowel_count)\n",
    "\n"
   ]
  },
  {
   "cell_type": "code",
   "execution_count": null,
   "id": "b0300b1a-7a13-4195-b466-3dc58a2b9919",
   "metadata": {},
   "outputs": [],
   "source": []
  },
  {
   "cell_type": "code",
   "execution_count": null,
   "id": "d675775e-1dcd-45f1-97d3-e7d0a0e0e075",
   "metadata": {},
   "outputs": [],
   "source": []
  },
  {
   "cell_type": "code",
   "execution_count": null,
   "id": "722f03ae-56c4-4f33-aafe-57b9f74accfa",
   "metadata": {},
   "outputs": [],
   "source": []
  },
  {
   "cell_type": "code",
   "execution_count": null,
   "id": "66868f93-af1b-4996-a4c5-4832e1eabb9a",
   "metadata": {},
   "outputs": [],
   "source": []
  },
  {
   "cell_type": "code",
   "execution_count": null,
   "id": "19c6f0d9-7a68-40e3-a783-4d1e10089c40",
   "metadata": {},
   "outputs": [],
   "source": []
  },
  {
   "cell_type": "code",
   "execution_count": null,
   "id": "f0596539-99e6-4eb9-8808-31f42c9838c0",
   "metadata": {},
   "outputs": [],
   "source": []
  },
  {
   "cell_type": "code",
   "execution_count": null,
   "id": "0cb318b9-776b-4763-a5ef-483c502b5214",
   "metadata": {},
   "outputs": [],
   "source": []
  },
  {
   "cell_type": "code",
   "execution_count": null,
   "id": "964d3f81-3ee1-4826-bfb9-919ddce0c70e",
   "metadata": {},
   "outputs": [],
   "source": []
  }
 ],
 "metadata": {
  "kernelspec": {
   "display_name": "Python 3 (ipykernel)",
   "language": "python",
   "name": "python3"
  },
  "language_info": {
   "codemirror_mode": {
    "name": "ipython",
    "version": 3
   },
   "file_extension": ".py",
   "mimetype": "text/x-python",
   "name": "python",
   "nbconvert_exporter": "python",
   "pygments_lexer": "ipython3",
   "version": "3.10.8"
  }
 },
 "nbformat": 4,
 "nbformat_minor": 5
}
